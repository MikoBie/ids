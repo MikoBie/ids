{
 "cells": [
  {
   "cell_type": "markdown",
   "metadata": {},
   "source": [
    "# Homework (deadline 15.12.2023 13:44:59)\n",
    "\n",
    "Write solutions for the homework exercises in this notebook. Once the work is done download the notebook file (`File > Download .ipynb`) rename it properly so it follows a template `HW1_2_<SURNAME>_<NAME>.ipynb` and upload it to the [Google Classroom](https://classroom.google.com/w/NjI5NzI5ODQxNDIw/tc/NjQzNTUyNDU2MTky).\n",
    "\n",
    "Remember that you can contact me via email if you have any problems. Moreover, you can also visit me in the ISS on the fourth floor (room 415). Usually, I am there from 11ish but please let me know in advance if you are coming because I might be busy. "
   ]
  },
  {
   "cell_type": "markdown",
   "metadata": {},
   "source": [
    "## Task 1 (5 points)\n",
    "\n",
    "Get 100 submissions from a subreddit called `todayilearned`. The submissions should include the word `science`. \n",
    "\n",
    "When you get the data please save to a JSON line file 10 submissions with the biggest number of comments under them. However, please write out to JSON only the following fields:\n",
    "\n",
    "* `author_name`\n",
    "* `created_utc` - in a human-readable format\n",
    "* `title`\n",
    "* `num_comments`\n",
    "* `url` - it should always exist but if this field is `None` or doesn't exist write the code in a way that it doesn't yield an error.\n",
    "\n",
    "Therefore, the JSON line file should contain a list of dictionaries looking more or less like this:\n",
    "\n",
    "```python\n",
    "{\n",
    "\t'author_name' : 'manolito_gafotas',\n",
    "\t'created_utc' : '2022-11-11 11:11:11',\n",
    "\t'title' : 'TIL the announcer for Super Smash Bros Brawl was also the announcer for Bill Nye the Science Guy.',\n",
    "\t'num_comments' : 100,\n",
    "\t'url' : 'https://en.wikipedia.org/wiki/Pat_Cashman'\n",
    "}\n",
    "\n",
    "\n",
    "```"
   ]
  },
  {
   "cell_type": "code",
   "execution_count": null,
   "metadata": {},
   "outputs": [],
   "source": [
    "## YOUR CODE"
   ]
  },
  {
   "cell_type": "markdown",
   "metadata": {},
   "source": [
    "## Task 2 (5 points)\n",
    "\n",
    "Get all comments from the oldest submission from Task 1. Write them out to a JSON line file. Information about each comment should consist only of the following information:\n",
    "\n",
    "* `author_name`\n",
    "* `created_utc` in human-readable format\n",
    "* `score`\n",
    "* `body`\n",
    "\n",
    "Therefore, the JSON line file should contain a list of dictionaries looking more or less like this:\n",
    "\n",
    "```python\n",
    "{\n",
    "\t'author_name' : 'manolito_gafotas',\n",
    "\t'created_utc' : '2011-11-11 11:11:11',\n",
    "\t'body' : \"im in grade 12 now (i live in canada as well) but i seriously dont even remember us doing this.Maybe not till at least grade 6 or 7\",\n",
    "\t'score' : 1,\n",
    "}"
   ]
  },
  {
   "cell_type": "code",
   "execution_count": null,
   "metadata": {},
   "outputs": [],
   "source": [
    "## YOUR CODE"
   ]
  }
 ],
 "metadata": {
  "kernelspec": {
   "display_name": "Python 3.10.6 ('ids')",
   "language": "python",
   "name": "python3"
  },
  "language_info": {
   "codemirror_mode": {
    "name": "ipython",
    "version": 3
   },
   "file_extension": ".py",
   "mimetype": "text/x-python",
   "name": "python",
   "nbconvert_exporter": "python",
   "pygments_lexer": "ipython3",
   "version": "3.10.8"
  },
  "orig_nbformat": 4,
  "vscode": {
   "interpreter": {
    "hash": "2f6b087e3237558552441618582c1cfff7dc162872ae65c00a668bb71df085d3"
   }
  }
 },
 "nbformat": 4,
 "nbformat_minor": 2
}
