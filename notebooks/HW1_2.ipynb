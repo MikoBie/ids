{
 "cells": [
  {
   "cell_type": "markdown",
   "metadata": {},
   "source": [
    "# Homework (deadline 25.11.2022 11:59:59)\n",
    "Write solutions for the homework exercises in this notebook. Once the work is done download the notebook file (`File > Download .ipynb`) rename it properly so it follows a template `HW1_<SURNAME>_<NAME>.ipynb` and send the file to me. **Please also attach all files you will be asked to produce in this homework**. My email address is as follows: \n",
    "\n",
    "* <m.biesaga@uw.edu.pl>\n",
    "\n",
    "Remember that you can contact me via email if you have any problems. Moreover, you can also visit me in the ISS on the fourth floor (room 415). Usually, I am there from 11ish but please let me know in advance if you are coming because I might be busy. \n"
   ]
  },
  {
   "cell_type": "markdown",
   "metadata": {},
   "source": [
    "## Task 1 (5 points)\n",
    "\n",
    "Connect to Twitter filtered-stream during a live event of your choice (the easiest would be a sporting event because they usually have a specific hashtag) and collect 100 tweets that are not in English and are not retweets. Among the tweets find a user with the most followers and download 300 tweets from their timeline. Save the tweets in a JSON line file, however, please write out only the following fields:\n",
    "\n",
    "* `retweet count`\n",
    "* `like count`\n",
    "* `quote count`\n",
    "* `reply count`\n",
    "* `id`\n",
    "* `context_annotations`\n",
    "* `lang`\n",
    "* `text`\n",
    "* `created_at`\n",
    "* `screen_name`\n",
    "\n",
    "**HINT**: The JSON line file should contain a list of dictionaries looking more or less like this:\n",
    "\n",
    "```python\n",
    "{\n",
    "  'retweet_count' : 2,\n",
    "  'like_count' : 15,\n",
    "  'quote_count' : 0,\n",
    "  'reply_count' : 21,\n",
    "  'id' : 13290821347,\n",
    "  'context_annotations' : \n",
    "    [\n",
    "      {\n",
    "        'entity': {'id': '854692455005921281',\n",
    "        'name': 'Science',\n",
    "        'description': 'Science'}\n",
    "      }\n",
    "    ]\n",
    "\n",
    "  'lang' : 'pl',\n",
    "  'text' : 'POLSKA GUROM! #Ortografiada'\n",
    "  'created_at' : '2022-11-11 11:11:11'\n",
    "  'screen_name' : \"manolito_gafotas\"\n",
    "}\n",
    "\n",
    "```"
   ]
  },
  {
   "cell_type": "code",
   "execution_count": null,
   "metadata": {},
   "outputs": [],
   "source": [
    "## If you are using Google Colab otherwise comment it\n",
    "!pip install twarc\n",
    "\n",
    "## Here paste your Bearer Token but please remove it before sending me the\n",
    "#solution\n",
    "BEARER_TOKEN = ''\n",
    "\n",
    "## Load module\n",
    "from twarc import Twarc2, expansions\n",
    "import json\n",
    "\n",
    "## Connect to Twitter API\n",
    "client = Twarc2(bearer_token=BEARER_TOKEN)"
   ]
  },
  {
   "cell_type": "code",
   "execution_count": null,
   "metadata": {},
   "outputs": [],
   "source": [
    "## YOUR CODE"
   ]
  }
 ],
 "metadata": {
  "kernelspec": {
   "display_name": "Python 3.10.6 ('ids')",
   "language": "python",
   "name": "python3"
  },
  "language_info": {
   "codemirror_mode": {
    "name": "ipython",
    "version": 3
   },
   "file_extension": ".py",
   "mimetype": "text/x-python",
   "name": "python",
   "nbconvert_exporter": "python",
   "pygments_lexer": "ipython3",
   "version": "3.10.4"
  },
  "orig_nbformat": 4,
  "vscode": {
   "interpreter": {
    "hash": "2f6b087e3237558552441618582c1cfff7dc162872ae65c00a668bb71df085d3"
   }
  }
 },
 "nbformat": 4,
 "nbformat_minor": 2
}
