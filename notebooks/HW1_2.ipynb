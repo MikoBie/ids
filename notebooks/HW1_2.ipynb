{
 "cells": [
  {
   "cell_type": "markdown",
   "metadata": {},
   "source": [
    "# Homework (deadline 6.12.2024 11:59:59)\n",
    "\n",
    "Write solutions for the homework exercises in this notebook. Once the work is done download the notebook file (`File > Download .ipynb`) rename it properly so it follows a template `HW1_2_<SURNAME>_<NAME>.ipynb` and upload it to the [Google Classroom](https://classroom.google.com/c/NzIwNDg4NDAyMTA2/a/NzIwNDg4NDAyMTQy/details).\n",
    "\n",
    "Remember that you can contact me via email if you have any problems. Moreover, you can also visit me in the ISS on the fourth floor (room 415). Usually, I am there from 11ish but please let me know in advance if you are coming because I might be busy. "
   ]
  },
  {
   "cell_type": "markdown",
   "metadata": {},
   "source": [
    "## Task 1 (5 points)\n",
    "\n",
    "Get 100 submissions from a subreddit called `todayilearned`. The submissions should include the word `science`. \n",
    "\n",
    "When you get the data please save to a JSON line file 10 submissions with the biggest number of comments under them. However, please write out to JSON only the following fields:\n",
    "\n",
    "* `author_name`\n",
    "* `created_utc` - in a human-readable format\n",
    "* `title`\n",
    "* `num_comments`\n",
    "* `url` - it should always exist but if this field is `None` or doesn't exist write the code in a way that it doesn't yield an error.\n",
    "\n",
    "Therefore, the JSON line file should contain a list of dictionaries looking more or less like this:\n",
    "\n",
    "```python\n",
    "{\n",
    "\t'author_name' : 'manolito_gafotas',\n",
    "\t'created_utc' : '2022-11-11 11:11:11',\n",
    "\t'title' : 'TIL the announcer for Super Smash Bros Brawl was also the announcer for Bill Nye the Science Guy.',\n",
    "\t'num_comments' : 100,\n",
    "\t'url' : 'https://en.wikipedia.org/wiki/Pat_Cashman'\n",
    "}\n",
    "\n",
    "\n",
    "```"
   ]
  },
  {
   "cell_type": "code",
   "execution_count": null,
   "metadata": {},
   "outputs": [],
   "source": [
    "!pip install praw"
   ]
  },
  {
   "cell_type": "code",
   "execution_count": null,
   "metadata": {},
   "outputs": [],
   "source": [
    "## Load module\n",
    "import praw\n",
    "import json\n",
    "from datetime import datetime\n",
    "from google.colab import userdata\n",
    "\n",
    "## Retrive our environmental variables and assing them to names.\n",
    "client_id = userdata.get(\"client_id\")\n",
    "client_secret = userdata.get(\"client_secret\")\n",
    "password = userdata.get(\"password\")\n",
    "user_agent = userdata.get(\"user_agent\")\n",
    "username = userdata.get(\"username\")"
   ]
  },
  {
   "cell_type": "code",
   "execution_count": null,
   "metadata": {},
   "outputs": [],
   "source": [
    "## Connect to Reddit\n",
    "reddit = praw.Reddit(\n",
    "    client_id=client_id,\n",
    "    client_secret=client_secret,\n",
    "    password=password,\n",
    "    user_agent=user_agent,\n",
    "    username=username,\n",
    "    check_for_async=False,\n",
    ")\n",
    "\n",
    "\n",
    "## Define a function to convert date\n",
    "def convert_date(date_float: float) -> str:\n",
    "    \"\"\"\n",
    "    Takes a date in epoch time format and converts it into a string in human-readable date format.\n",
    "\n",
    "    Parameters:\n",
    "    -----------\n",
    "        date_float (float): a float representing a date in epoch time format.\n",
    "\n",
    "    Returns:\n",
    "    --------\n",
    "        (str) : a string representing a date in human-readable format.\n",
    "    \"\"\"\n",
    "    return datetime.fromtimestamp(date_float).strftime(\"%d-%m-%Y %H:%M:%S\")"
   ]
  },
  {
   "cell_type": "code",
   "execution_count": null,
   "metadata": {},
   "outputs": [],
   "source": [
    "## Create a generator of 100 elements\n",
    "submissions = reddit.subreddit(\"todayilearned\").search(\"science\")\n",
    "\n",
    "## An empty list to which we will input dictionaries\n",
    "output = []\n",
    "\n",
    "## Iterate over a generator\n",
    "for submission in submissions:\n",
    "    ## Create an empty dictionary\n",
    "    temp = {}\n",
    "    ## Assign the author name if the account exists\n",
    "    temp[\"author_name\"] = submission.author.name if submission.author else None\n",
    "    ## Assign the date in human-readable format\n",
    "    temp[\"created_utc\"] = convert_date(submission.created_utc)\n",
    "    ## Assign the title\n",
    "    temp[\"title\"] = submission.title\n",
    "    ## Assign the number of comments under a given submission\n",
    "    temp[\"num_comments\"] = submission.num_comments\n",
    "    ## Assign the url\n",
    "    temp[\"url\"] = submission.url if submission.url else None\n",
    "    ## Check if the output list is empty\n",
    "    if not output:\n",
    "        ## Append the first submission to the list\n",
    "        output.append(temp)\n",
    "        ## Skip the rest of the loop\n",
    "        continue\n",
    "    ## Check if the lowest number of comments is smaller than the current\n",
    "    if temp[\"num_comments\"] > output[0][\"num_comments\"]:\n",
    "        ## Append the current submission to the list\n",
    "        output.append(temp)\n",
    "        ## Sort the list by number of comments\n",
    "        output.sort(key=lambda x: x[\"num_comments\"])\n",
    "        ## Check if the length of the list is bigger than 10\n",
    "        if len(output) > 10:\n",
    "            ## Remove the submission with the lowest\n",
    "            ## number of comments\n",
    "            output = output[1:]"
   ]
  },
  {
   "cell_type": "code",
   "execution_count": null,
   "metadata": {},
   "outputs": [],
   "source": [
    "## Write out the results to the JSON line file\n",
    "with open(\"Task1.jsonl\", \"w\") as file:\n",
    "    for line in output:\n",
    "        file.write(json.dumps(line) + \"\\n\")"
   ]
  },
  {
   "cell_type": "markdown",
   "metadata": {},
   "source": [
    "## Task 2 (5 points)\n",
    "\n",
    "Get all comments from the oldest submission from Task 1. Write them out to a JSON line file. Information about each comment should consist only of the following information:\n",
    "\n",
    "* `author_name`\n",
    "* `created_utc` in human-readable format\n",
    "* `score`\n",
    "* `body`\n",
    "\n",
    "Therefore, the JSON line file should contain a list of dictionaries looking more or less like this:\n",
    "\n",
    "```python\n",
    "{\n",
    "\t'author_name' : 'manolito_gafotas',\n",
    "\t'created_utc' : '2011-11-11 11:11:11',\n",
    "\t'body' : \"im in grade 12 now (i live in canada as well) but i seriously dont even remember us doing this.Maybe not till at least grade 6 or 7\",\n",
    "\t'score' : 100\n",
    "}\n",
    "```"
   ]
  },
  {
   "cell_type": "code",
   "execution_count": null,
   "metadata": {},
   "outputs": [],
   "source": [
    "!pip install praw"
   ]
  },
  {
   "cell_type": "code",
   "execution_count": null,
   "metadata": {},
   "outputs": [],
   "source": [
    "## Load module\n",
    "import praw\n",
    "import json\n",
    "from tqdm import tqdm  ## Import a fancy module for progress bar\n",
    "from google.colab import userdata\n",
    "\n",
    "## Retrive our environmental variables and assing them to names.\n",
    "client_id = userdata.get(\"client_id\")\n",
    "client_secret = userdata.get(\"client_secret\")\n",
    "password = userdata.get(\"password\")\n",
    "user_agent = userdata.get(\"user_agent\")\n",
    "username = userdata.get(\"username\")"
   ]
  },
  {
   "cell_type": "code",
   "execution_count": null,
   "metadata": {},
   "outputs": [],
   "source": [
    "## Connect to Reddit\n",
    "reddit = praw.Reddit(\n",
    "    client_id=client_id,\n",
    "    client_secret=client_secret,\n",
    "    password=password,\n",
    "    user_agent=user_agent,\n",
    "    username=username,\n",
    "    check_for_async=False,\n",
    ")\n",
    "\n",
    "\n",
    "## Define a function to convert time\n",
    "def convert_date(date_float: float) -> str:\n",
    "    \"\"\"\n",
    "    Takes a date in epoch time format and converts it into a string in human-readable date format.\n",
    "\n",
    "    Parameters:\n",
    "    -----------\n",
    "        date_float (float): a float representing a date in epoch time format.\n",
    "\n",
    "    Returns:\n",
    "    --------\n",
    "        (str) : a string representing a date in human-readable format.\n",
    "    \"\"\"\n",
    "    return datetime.fromtimestamp(date_float).strftime(\"%d-%m-%Y %H:%M:%S\")"
   ]
  },
  {
   "cell_type": "code",
   "execution_count": null,
   "metadata": {},
   "outputs": [],
   "source": [
    "## Get 100 submissions into a list\n",
    "submissions = [item for item in reddit.subreddit(\"todayilearned\").search(\"science\")]\n",
    "## Sort them by the date of creation\n",
    "sorted_submissions = sorted(submissions, key=lambda x: x.created_utc)\n",
    "## Pick the oldest submission id\n",
    "oldest_submission = sorted_submissions[0]"
   ]
  },
  {
   "cell_type": "code",
   "execution_count": null,
   "metadata": {},
   "outputs": [],
   "source": [
    "## Load all comments\n",
    "oldest_submission.comments.replace_more(limit=None)"
   ]
  },
  {
   "cell_type": "code",
   "execution_count": null,
   "metadata": {},
   "outputs": [],
   "source": [
    "## Open the file\n",
    "with open(\"Task2.jsonl\", \"w\") as file:\n",
    "    ## Iterate over all comemnts\n",
    "    for comment in tqdm(oldest_submission.comments.list()):\n",
    "        ## Create an empty dict\n",
    "        temp = {}\n",
    "        ## Assign the author name if the Redditor exists\n",
    "        temp[\"author_name\"] = comment.author.name if comment.author else None\n",
    "        ## Assign the date in humna-readable format\n",
    "        temp[\"created_utc\"] = convert_date(comment.created_utc)\n",
    "        ## Assign the body of the comment\n",
    "        temp[\"body\"] = comment.body\n",
    "        ## Assign the number of comments under given submission\n",
    "        temp[\"score\"] = comment.score\n",
    "        ## Write out to the file\n",
    "        file.write(json.dumps(temp) + \"\\n\")"
   ]
  }
 ],
 "metadata": {
  "kernelspec": {
   "display_name": "Python 3.10.6 ('ids')",
   "language": "python",
   "name": "python3"
  },
  "language_info": {
   "codemirror_mode": {
    "name": "ipython",
    "version": 3
   },
   "file_extension": ".py",
   "mimetype": "text/x-python",
   "name": "python",
   "nbconvert_exporter": "python",
   "pygments_lexer": "ipython3",
   "version": "3.10.8"
  },
  "vscode": {
   "interpreter": {
    "hash": "2f6b087e3237558552441618582c1cfff7dc162872ae65c00a668bb71df085d3"
   }
  }
 },
 "nbformat": 4,
 "nbformat_minor": 2
}
